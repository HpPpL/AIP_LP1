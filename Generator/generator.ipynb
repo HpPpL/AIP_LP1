{
 "cells": [
  {
   "cell_type": "code",
   "execution_count": 1,
   "metadata": {
    "collapsed": true
   },
   "outputs": [],
   "source": [
    "import random\n",
    "import string\n",
    "import numpy as np\n",
    "import os"
   ]
  },
  {
   "cell_type": "code",
   "execution_count": 2,
   "outputs": [
    {
     "data": {
      "text/plain": "'C:\\\\Users\\\\ender\\\\Desktop\\\\LP1\\\\Generator\\\\Data'"
     },
     "execution_count": 2,
     "metadata": {},
     "output_type": "execute_result"
    }
   ],
   "source": [
    "# os.getcwd()\n",
    "# os.mkdir(\"Data\")\n",
    "# os.chdir(\"Data\")\n",
    "# os.getcwd()"
   ],
   "metadata": {
    "collapsed": false,
    "pycharm": {
     "name": "#%%\n"
    }
   }
  },
  {
   "cell_type": "code",
   "execution_count": 3,
   "outputs": [],
   "source": [
    "def generator_wt(length, types):\n",
    "\n",
    "    if types == \"char\":\n",
    "        pull = string.printable[:62]\n",
    "        res = []\n",
    "\n",
    "        for i in range(length):\n",
    "            seed = np.random.randint(0, 62)\n",
    "            res.append(pull[seed])\n",
    "\n",
    "        return res\n",
    "\n",
    "    elif types == \"int\":\n",
    "        pull = string.printable[:10]\n",
    "        res = []\n",
    "\n",
    "        for i in range(length):\n",
    "            seed = np.random.randint(0, 10)\n",
    "            res.append(pull[seed])\n",
    "\n",
    "        return res\n",
    "\n",
    "    elif types == \"double\":\n",
    "        res = []\n",
    "\n",
    "        for i in range(length):\n",
    "            res.append(str(random.uniform(0, 1e+9)))\n",
    "\n",
    "        return res\n",
    "\n",
    "    elif types == \"string\":\n",
    "        pull = string.printable[:62]\n",
    "        res = []\n",
    "\n",
    "        for i in range(length):\n",
    "            tmp = []\n",
    "\n",
    "            for j in range(np.random.randint(20, 40)):\n",
    "                seed = np.random.randint(0, 62)\n",
    "                tmp.append(pull[seed])\n",
    "\n",
    "            res.append(''.join(tmp))\n",
    "\n",
    "        return res\n",
    "    else:\n",
    "        return \"Types error!\""
   ],
   "metadata": {
    "collapsed": false,
    "pycharm": {
     "name": "#%%\n"
    }
   }
  },
  {
   "cell_type": "code",
   "execution_count": 4,
   "outputs": [],
   "source": [
    "for j in range(4):\n",
    "    for i in range(int(1e+5), int(1 + 1e+6), int(1e+5)):\n",
    "        names = [\"char\", \"int\", \"double\", \"string\"]\n",
    "        name_file = names[j] + \"_\" + str(i) + \".txt\"\n",
    "\n",
    "        f = open(name_file, 'w+', encoding='utf8')\n",
    "        f.write('\\n'.join(generator_wt(i, names[j])))\n",
    "        f.close()"
   ],
   "metadata": {
    "collapsed": false,
    "pycharm": {
     "name": "#%%\n"
    }
   }
  },
  {
   "cell_type": "code",
   "execution_count": null,
   "outputs": [],
   "source": [],
   "metadata": {
    "collapsed": false,
    "pycharm": {
     "name": "#%%\n"
    }
   }
  }
 ],
 "metadata": {
  "kernelspec": {
   "display_name": "Python 3",
   "language": "python",
   "name": "python3"
  },
  "language_info": {
   "codemirror_mode": {
    "name": "ipython",
    "version": 2
   },
   "file_extension": ".py",
   "mimetype": "text/x-python",
   "name": "python",
   "nbconvert_exporter": "python",
   "pygments_lexer": "ipython2",
   "version": "2.7.6"
  }
 },
 "nbformat": 4,
 "nbformat_minor": 0
}